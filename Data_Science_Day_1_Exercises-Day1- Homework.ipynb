{
 "cells": [
  {
   "cell_type": "markdown",
   "metadata": {},
   "source": [
    "# Exercises"
   ]
  },
  {
   "cell_type": "code",
   "execution_count": 2,
   "metadata": {},
   "outputs": [],
   "source": [
    "import numpy as np"
   ]
  },
  {
   "cell_type": "markdown",
   "metadata": {},
   "source": [
    "### #1 - Calculate the BMI (body mass index) on the two lists below using NDArrays..."
   ]
  },
  {
   "cell_type": "code",
   "execution_count": 3,
   "metadata": {},
   "outputs": [
    {
     "name": "stdout",
     "output_type": "stream",
     "text": [
      "[16.86620458 17.87755102 18.82562984 19.71450617 20.54794521 21.32943755\n",
      " 22.06222222]\n"
     ]
    }
   ],
   "source": [
    "\n",
    "# formula = weight / (height**2) * 730\n",
    "height = [69, 70, 71, 72, 73, 74, 75]\n",
    "weight = [110, 120, 130, 140, 150, 160, 170]\n",
    "\n",
    "# OUTPUT: [16.86620458 17.87755102 18.82562984 19.71450617 20.54794521 21.32943755\n",
    "# 22.06222222]\n",
    "\n",
    "npheight = np.array(height)\n",
    "npweight = np.array(weight)\n",
    "\n",
    "bmi = npweight/(npheight ** 2) * 730\n",
    "\n",
    "\n",
    "print(bmi)"
   ]
  },
  {
   "cell_type": "markdown",
   "metadata": {},
   "source": [
    "### #2 - Create a function that will take in two parameters and will create a random matrix based off of those parameters. Extra: Have additional parameters taken in that allow the user to choose the shape and data type of the matrix."
   ]
  },
  {
   "cell_type": "code",
   "execution_count": 10,
   "metadata": {},
   "outputs": [
    {
     "data": {
      "text/plain": [
       "array([[23.48438495, 18.16116672, 15.71167184],\n",
       "       [26.31883097, 27.29388398, 28.77357792],\n",
       "       [30.9339222 , 46.37585854,  8.34972629]])"
      ]
     },
     "execution_count": 10,
     "metadata": {},
     "output_type": "execute_result"
    }
   ],
   "source": [
    "\"\"\"\n",
    "Example Result for make_matrix(0,15,(3,3)):\n",
    "array([[14.21633515,  7.98846653,  9.64140715],\n",
    "       [ 6.30982234,  9.96414331,  8.43153688],\n",
    "       [14.73102068, 11.76072894, 14.23356121]])\n",
    "\"\"\"\n",
    "def make_matrix(low,high,shape,data_type = float):\n",
    "    return np.random.uniform(low,high,shape)\n",
    "\n",
    "make_matrix(3,50, (3,3))"
   ]
  },
  {
   "cell_type": "markdown",
   "metadata": {},
   "source": [
    "### #3 - Open and load the data for the Chicago White Sox hitting data for this past season.Create a function that will compare the infield players output vs the outfield players output vs *hybrid. (Infield - {C, 1B, 2B, SS, 3B, MI}, Outfield - {LF, CF, RF, OF}, *Hybrid - {DH, UT}) for a specific stat. i.e. BA or HR or OPS\n",
    "\n",
    "*Hybrid is optional\n"
   ]
  },
  {
   "cell_type": "code",
   "execution_count": 15,
   "metadata": {},
   "outputs": [],
   "source": [
    "import csv\n",
    "import numpy as np\n",
    "\n",
    "#Test to make sure you have the correct data\n",
    "\n"
   ]
  },
  {
   "cell_type": "code",
   "execution_count": 21,
   "metadata": {},
   "outputs": [
    {
     "data": {
      "text/plain": [
       "array([( 1, b'C', b'Yasmani Grandal', 32,  93, 375, 279, 60,  67,  9, 0, 23,  62,  0, 0, 87,  82, 0.24 , 0.42 , 0.52 , 0.939, 157, 145, 15,  3, 1,  5, 0),\n",
       "       ( 2, b'1B', b'Jos\\xe9 Abreu', 34, 152, 659, 566, 86, 148, 30, 2, 30, 117,  1, 0, 61, 143, 0.261, 0.351, 0.481, 0.831, 125, 272, 28, 22, 0, 10, 3),\n",
       "       ( 3, b'2B', b'Cesar Hernandez', 31,  53, 217, 194, 24,  45,  4, 0,  3,  15,  1, 1, 21,  45, 0.232, 0.309, 0.299, 0.608,  69,  58,  5,  1, 0,  1, 2),\n",
       "       ( 4, b'SS', b'Tim Anderson', 28, 123, 551, 527, 94, 163, 29, 2, 17,  61, 18, 7, 22, 119, 0.309, 0.338, 0.469, 0.806, 118, 247,  5,  1, 0,  1, 1),\n",
       "       ( 5, b'3B', b'Yoan Moncada', 26, 144, 616, 520, 74, 137, 33, 1, 14,  61,  3, 2, 84, 157, 0.263, 0.375, 0.412, 0.787, 117, 214,  6, 10, 0,  2, 1),\n",
       "       ( 6, b'LF', b'Andrew Vaughn', 23, 127, 469, 417, 56,  98, 22, 0, 15,  48,  1, 1, 41, 101, 0.235, 0.309, 0.396, 0.705,  92, 165, 14,  6, 0,  5, 0),\n",
       "       ( 7, b'CF', b'Luis Robert', 23,  68, 296, 275, 42,  93, 22, 1, 13,  43,  6, 1, 14,  61, 0.338, 0.378, 0.567, 0.946, 155, 156,  4,  5, 0,  2, 1),\n",
       "       ( 8, b'RF', b'Adam Eaton', 32,  58, 219, 189, 33,  38,  8, 2,  5,  28,  2, 0, 20,  55, 0.201, 0.298, 0.344, 0.642,  76,  65,  5,  6, 4,  0, 0),\n",
       "       ( 9, b'DH', b'Yermin Mercedes', 28,  68, 262, 240, 26,  65,  9, 1,  7,  37,  0, 1, 20,  46, 0.271, 0.328, 0.404, 0.732, 100,  97,  7,  1, 0,  1, 1),\n",
       "       (10, b'UT', b'Leury Garcia', 30, 126, 474, 415, 60, 111, 22, 4,  5,  54,  6, 2, 41,  97, 0.267, 0.335, 0.376, 0.711,  96, 156, 12,  4, 9,  5, 0),\n",
       "       (11, b'OF', b'Brian Goodwin', 30,  72, 271, 235, 33,  52, 10, 1,  8,  29,  1, 0, 33,  58, 0.221, 0.319, 0.374, 0.693,  90,  88,  2,  1, 1,  1, 0),\n",
       "       (12, b'LF', b'Eloy Jimenez', 24,  55, 231, 213, 23,  53, 10, 0, 10,  37,  0, 0, 16,  57, 0.249, 0.303, 0.437, 0.74 , 100,  93,  8,  1, 0,  1, 0),\n",
       "       (13, b'C', b'Zack Collins', 26,  78, 231, 195, 25,  41, 13, 0,  4,  26,  1, 1, 34,  69, 0.21 , 0.33 , 0.338, 0.669,  85,  66,  4,  1, 1,  0, 1),\n",
       "       (14, b'2B', b'Nick Madrigal', 24,  54, 215, 200, 30,  61, 10, 4,  2,  21,  1, 2, 11,  17, 0.305, 0.349, 0.425, 0.774, 112,  85,  3,  3, 0,  1, 0),\n",
       "       (15, b'MI', b'Danny Mendick', 27,  71, 186, 164, 14,  36,  5, 0,  2,  20,  0, 1, 18,  42, 0.22 , 0.303, 0.287, 0.589,  64,  47,  1,  2, 1,  1, 0),\n",
       "       (16, b'DH', b'Gavin Sheets', 25,  54, 179, 160, 23,  40,  8, 0, 11,  34,  0, 0, 16,  40, 0.25 , 0.324, 0.506, 0.83 , 123,  81,  4,  2, 0,  1, 0),\n",
       "       (17, b'CF', b'Adam Engel', 29,  39, 140, 123, 21,  31,  9, 0,  7,  18,  7, 1, 11,  31, 0.252, 0.336, 0.496, 0.832, 124,  61,  4,  5, 0,  1, 0),\n",
       "       (18, b'CF', b'Billy Hamilton', 30,  71, 135, 127, 23,  28,  8, 3,  2,  11,  9, 0,  4,  47, 0.22 , 0.242, 0.378, 0.62 ,  67,  48,  1,  0, 3,  1, 0),\n",
       "       (19, b'UT', b'Jake Lamb', 30,  43, 131, 113, 20,  24,  2, 0,  6,  13,  0, 0, 17,  38, 0.212, 0.321, 0.389, 0.71 ,  94,  44,  4,  1, 0,  0, 0),\n",
       "       (20, b'C', b'Seby Zavala', 27,  37, 104,  93, 15,  17,  3, 0,  5,  15,  0, 0,  6,  41, 0.183, 0.24 , 0.376, 0.616,  66,  35,  1,  1, 4,  0, 0),\n",
       "       (21, b'3B', b'Jake Burger', 25,  15,  42,  38,  5,  10,  3, 1,  1,   3,  0, 0,  4,  15, 0.263, 0.333, 0.474, 0.807, 118,  18,  2,  0, 0,  0, 0),\n",
       "       (22, b'UT', b'Romy Gonzalez', 24,  10,  33,  32,  4,   8,  3, 0,  0,   2,  0, 0,  1,  11, 0.25 , 0.273, 0.344, 0.616,  68,  11,  1,  0, 0,  0, 0),\n",
       "       (23, b'LF', b'Nick Williams', 27,   4,  13,  10,  2,   0,  0, 0,  0,   0,  0, 0,  1,   4, 0.   , 0.231, 0.   , 0.231, -27,   0,  1,  2, 0,  0, 0),\n",
       "       (24, b'OF', b'Luis Gonzalez', 25,   6,  11,   8,  2,   2,  2, 0,  0,   0,  0, 0,  3,   2, 0.25 , 0.455, 0.5  , 0.955, 163,   4,  1,  0, 0,  0, 0)],\n",
       "      dtype=[('Rk', '<i4'), ('Pos', 'S25'), ('Name', 'S25'), ('Age', '<i4'), ('G', '<i4'), ('PA', '<i4'), ('AB', '<i4'), ('R', '<i4'), ('H', '<i4'), ('2B', '<i4'), ('3B', '<i4'), ('HR', '<i4'), ('RBI', '<i4'), ('SB', '<i4'), ('CS', '<i4'), ('BB', '<i4'), ('SO', '<i4'), ('BA', '<f4'), ('OBP', '<f4'), ('SLG', '<f4'), ('OPS', '<f4'), ('OPS_1', '<i4'), ('TB', '<i4'), ('GDP', '<i4'), ('HBP', '<i4'), ('SH', '<i4'), ('SF', '<i4'), ('IBB', '<i4')])"
      ]
     },
     "execution_count": 21,
     "metadata": {},
     "output_type": "execute_result"
    }
   ],
   "source": [
    "\n",
    "\n",
    "FIELDS = ['Rk', 'Pos', 'Name', 'Age', 'G', 'PA', 'AB', 'R', 'H', '2B', '3B', 'HR', 'RBI', 'SB', 'CS', \n",
    "          'BB', 'SO', 'BA', 'OBP', 'SLG', 'OPS', 'OPS+', 'TB', 'GDP', 'HBP', 'SH', 'SF', 'IBB']\n",
    "\n",
    "DATATYPES = [('rk', 'i'), ('pos', '|S25'), ('name', '|S25'), ('age', 'i'), ('g', 'i'), ('pa', 'i'), ('ab', 'i'),\n",
    "                ('r', 'i'), ('h', 'i'), ('2b', 'i'), ('3b', 'i'), ('hr', 'i'), ('rbi', 'i'), ('sb', 'i'), ('cs', 'i'),\n",
    "                ('bb', 'i'), ('so', 'i'), ('ba', 'f'), ('obp', 'f'), ('slg', 'f'), ('ops', 'f'), ('opsp', 'i'),\n",
    "                ('tb', 'i'), ('gdp', 'i'), ('hbp', 'i'), ('sh', 'i'), ('sf', 'i'), ('ibb', 'i')]\n",
    "\n",
    "#Use this function to actually open the data inside of a NDArray\n",
    "\n",
    "def get_data(filename, d=','):\n",
    "    data= np.genfromtxt(filename, dtype=DATATYPES, delimiter=d, names=True)\n",
    "    return data\n",
    "\n",
    "chi_sox= get_data('whitesox_2021_hitting.csv')\n",
    "chi_sox"
   ]
  },
  {
   "cell_type": "code",
   "execution_count": null,
   "metadata": {},
   "outputs": [],
   "source": []
  }
 ],
 "metadata": {
  "kernelspec": {
   "display_name": "Python 3",
   "language": "python",
   "name": "python3"
  },
  "language_info": {
   "codemirror_mode": {
    "name": "ipython",
    "version": 3
   },
   "file_extension": ".py",
   "mimetype": "text/x-python",
   "name": "python",
   "nbconvert_exporter": "python",
   "pygments_lexer": "ipython3",
   "version": "3.8.8"
  }
 },
 "nbformat": 4,
 "nbformat_minor": 2
}
